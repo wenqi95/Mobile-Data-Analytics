{
 "cells": [
  {
   "cell_type": "markdown",
   "metadata": {},
   "source": [
    "# Gaussian Process Regression for WiFi Fingerprinting-based Localization\n",
    "\n",
    "In this assignment, you will work with Gaussian process for regression. Recall in Assignment 1, we use a given path loss model and trilateration to determine locations using WiFi radio signal strenght (RSS) from different access points (AP). Training the path loss model itself can be done using polynomial regression. Indoor environments are generally quite complex and cannot be characterized using a single path loss model accurately. An alternative approach is to treat RSS vectors at each location as a *fingerprint*. If these fingerprints are unique, we can use them to determine locations.   \n",
    "\n",
    "As an example, in the following figure, there are four APs. We use colors to represent the amplitude of RSS values (hot colors indicate higher values). As one moves away from an AP, the RSS decreases. However, the contour curves of equal RSS readings from one AP are often not circular (and thus the path loss model fails). \n",
    "\n",
    "![WiFi Fingerprint](RSS.jpg)\n",
    "\n",
    "For simplicity, we only consider **2D localization**. The most naive approach is to build a lookup table of fingerprints and locations from training data. During testing, given the RSS measurements, one can search for the  location that gives the best match (by the nearest neighbor search). However, such a solution requires dense measurements across the target space since we do not know what the measurements are at locations not in the training set. Additionally, the naive lookup approach fails to account of uncertainty in RSS measurements that is prevalent in indoor environments. \n",
    "\n",
    "For an AP $i$, we can model the *mean* RSS value (in dBm) at location $(x_1, x_2)$ from AP $i$ as a function $f_i: R^2 \\rightarrow R$. In the training phase, we conduct site survey and measure RSS values at a number of known locations. The training data $\\{X, Y\\}$ thus consists of $\\{(x_1^j, x_2^j), (RSS_1^j, RSS_2^j, \\ldots, RSS_m^j), j=1, 2, \\ldots, N\\}$, where $RSS_i^j$ is the RSS at $j$th location from AP $i$. Note that the number of visible APs tends to differ from one location to another. \n",
    "\n",
    "We assume $f_i$'s are drawn from $GP(m(x), k(x,x'))$, where $m(x)$ is the mean process and $k(x,x')$ is the kernel. With GP regression, we obtain the predictive model for RSS values from AP $i$ at an unknown location(s) $X_*$ by,\n",
    "$$\n",
    "f_i(X_*)| X, y, X_* \\sim N(\\bar{f_i}^*, cov(f_i^*)), \n",
    "$$\n",
    "where $\\bar{f_i}^* = K(X_*, X)[K(X,X) + \\sigma_n^2I]^{-1}y_i$ and $cov(f_i^*) = K(X_*, X_*) - K(X_*, X)[K(X,X)+\\sigma_n^2 I]^{-1}K(X,X_*)$\n",
    "\n",
    "To determine the location a device given its RSS measurements $[RSS_{i_1}, RSS_{i_2}, \\ldots, RSS_{i_l}]$, one uses the maximum a posteriori (MAP) estimation. Formally, \n",
    "$$\n",
    "\\arg\\max_{X_*} \\sum_{c = 1}^{l} \\log f_{i_c}(X_*)| X, y, X_*\n",
    "$$\n",
    "\n",
    "One way to solve this optimization problem is to divide the search space into regular grids and find the grid point that maximizes the objective function. \n",
    "\n",
    "<br>\n",
    "<font color=\"blue\">\n",
    "[Reference] \n",
    "Ferris, B, Hahnel, D & Fox, D 2007, Gaussian processes for signal strength-based location estimation. in Robotics: Science and Systems. vol. 2, MIT Press Journals, pp. 303-310, 2nd International Conference on Robotics Science and Systems, RSS 2006, Philadelphia, United States, 16-19 August.</font>"
   ]
  },
  {
   "cell_type": "code",
   "execution_count": 1,
   "metadata": {
    "collapsed": true
   },
   "outputs": [],
   "source": [
    "import ianus\n",
    "import numpy as np\n",
    "import matplotlib.pyplot as plt\n",
    "import GPy \n",
    "import math \n",
    "from sklearn.model_selection import train_test_split\n",
    "import scipy\n",
    "from sklearn.model_selection import KFold"
   ]
  },
  {
   "cell_type": "markdown",
   "metadata": {},
   "source": [
    "GPy package can be found at https://sheffieldml.github.io/GPy/ <br>\n",
    "**Before you start the assignment, please go through the lecture slides and the GP demo discussed in class**"
   ]
  },
  {
   "cell_type": "markdown",
   "metadata": {},
   "source": [
    "## 1. Read WiFi and Location Data\n",
    "WiFi, AP and location data are similar to Assignment 1 with one minor difference. In AP.csv, only the mac address of APs are given. There are no locations of the APs. "
   ]
  },
  {
   "cell_type": "code",
   "execution_count": 2,
   "metadata": {
    "collapsed": true
   },
   "outputs": [],
   "source": [
    "datapath = './dataset/'\n",
    "\n",
    "X_raw, apinfo = ianus.read_wifi_ap_data(datapath+'wifi.pbf', datapath+'AP.csv')\n",
    "Y = ianus.read_location_data(datapath + 'location.pbf')\n",
    "\n",
    "mac_address = list(apinfo.keys())\n",
    "num_AP = len(mac_address)\n",
    "num_loc = Y.shape[1]\n",
    "\n",
    "assert (num_loc == len(X_raw))\n",
    "\n",
    "# Search space\n",
    "min_X, min_Y, max_X, max_Y = [np.amin(Y[0]), np.amin(Y[1]), np.amax(Y[0]), np.max(Y[1])]\n",
    "\n",
    "# Mesh for localization. Find a location among NxN grids points that maximizes a posteriori distribution\n",
    "N = 50\n",
    "mesh = np.meshgrid(np.linspace(min_X, max_X, N), np.linspace(min_Y, max_Y, N))\n",
    "grid = np.array([mesh[0].reshape(N*N,1), mesh[1].reshape(N*N,1)]).squeeze().T"
   ]
  },
  {
   "cell_type": "markdown",
   "metadata": {},
   "source": [
    "## 2. Gaussian Process Regression\n",
    "Step 1. Parition the data into training and testing sets randomly (e.g., 90% of the locations and their RSS readings are in the training set and the remaining 10% in the testing set). <br>\n",
    "Step 2. Train a GP for **each** feature (AP) using RBF kernel (maximally, there are num_AP GP's). <br>\n",
    "Step 3. Optimize the hyper-parameters via optimization *model.optimize*\n",
    "\n",
    "**Note: the training and testing set division is among locations NOT measurements from the same locations**"
   ]
  },
  {
   "cell_type": "code",
   "execution_count": 36,
   "metadata": {},
   "outputs": [
    {
     "name": "stderr",
     "output_type": "stream",
     "text": [
      " C:\\Users\\wenqi\\Anaconda3\\lib\\site-packages\\ipykernel_launcher.py:5: RuntimeWarning:Mean of empty slice\n",
      " C:\\Users\\wenqi\\Anaconda3\\lib\\site-packages\\GPy\\kern\\src\\rbf.py:43: RuntimeWarning:overflow encountered in square\n",
      " C:\\Users\\wenqi\\Anaconda3\\lib\\site-packages\\GPy\\kern\\src\\stationary.py:167: RuntimeWarning:overflow encountered in true_divide\n",
      " C:\\Users\\wenqi\\Anaconda3\\lib\\site-packages\\GPy\\kern\\src\\rbf.py:46: RuntimeWarning:invalid value encountered in multiply\n"
     ]
    }
   ],
   "source": [
    "# Compue X_mean\n",
    "X_mean = np.zeros((num_AP, num_loc))\n",
    "for i in range(num_loc):\n",
    "    num_scans = X_raw[i].shape[1]\n",
    "    X_mean[:,i] = np.nanmean(X_raw[i][:,0:num_scans],axis=1)\n",
    "X_mean = X_mean.T # The shape of X_mean is num_loc * num_AP\n",
    "\n",
    "Y_new = Y.T[:,0:2]\n",
    "\n",
    "X_train, X_test, Y_train, Y_test = train_test_split(Y_new, X_mean, test_size = 0.1)\n",
    "\n",
    "GP = []\n",
    "GP_index = []\n",
    "for i in range(num_AP):\n",
    "    X = X_train[~np.isnan(Y_train[:,i])]\n",
    "    Y_AP = Y_train[:,i]\n",
    "    Y_AP = Y_AP[~np.isnan(Y_AP)]\n",
    "    Y_AP = np.reshape(Y_AP,(Y_AP.shape[0],1))\n",
    "\n",
    "    if(X.shape[0] > 10):\n",
    "        kernel = GPy.kern.RBF(input_dim=2,lengthscale =10)\n",
    "        m = GPy.models.GPRegression(X,Y_AP,kernel)\n",
    "        m.optimize(messages=False,max_f_eval = 1000)\n",
    "        GP.append(m)\n",
    "        GP_index.append(i)\n",
    "    "
   ]
  },
  {
   "cell_type": "markdown",
   "metadata": {},
   "source": [
    "Step 4. For each test location, solve the MAP estimation from the RSS readings in the test set. \n",
    "\n",
    "- First, use model.predict(grid) to get the mean and variance of the RSS of *each* AP at all mesh grid locations \n",
    "- Second, for each test data in the test set, 1) evaluate the log of the probability density function at each mesh grid point for each AP and compute the sum 2) find the grid point with the maximum *sum* logpdf and save the location as inferred location to Y_hat.\n",
    "    - Note: *nan* entries should not be included in the evaluation\n",
    "\n",
    "**Hint: you can use scipy.stats.normal.logpdf (scipy.stats.multivariate_normal.logpdf) to compute the log pdf of (multivariate) Gaussian distribution**"
   ]
  },
  {
   "cell_type": "code",
   "execution_count": 37,
   "metadata": {
    "collapsed": true
   },
   "outputs": [],
   "source": [
    "GP_num = len(GP)\n",
    "\n",
    "mean = np.zeros([grid.shape[0],GP_num])\n",
    "var = np.zeros([grid.shape[0],GP_num])\n",
    "for i in range(GP_num):\n",
    "    result = GP[i].predict(grid)\n",
    "    mean[:,i] = result[0].reshape((grid.shape[0],))\n",
    "    var[:,i] = result[1].reshape((grid.shape[0],))\n",
    "\n",
    "num_test = X_test.shape[0]\n",
    "Y_hat = np.zeros([num_test,2])\n",
    "for num in range(num_test):\n",
    "    sum = np.zeros(grid.shape[0])\n",
    "    for p in range(grid.shape[0]):\n",
    "        for k in range(GP_num):\n",
    "            RSS = Y_test[num,GP_index[k]]\n",
    "            if (~np.isnan(RSS)):\n",
    "                sum[p] += scipy.stats.multivariate_normal.logpdf(RSS,mean[p,k],math.sqrt(var[p,k]))\n",
    "    max_index = np.argmax(sum)\n",
    "    Y_hat[num] = grid[max_index]    "
   ]
  },
  {
   "cell_type": "markdown",
   "metadata": {},
   "source": [
    "    5. Compute the prediction errors and visualize the results"
   ]
  },
  {
   "cell_type": "code",
   "execution_count": 38,
   "metadata": {
    "scrolled": true
   },
   "outputs": [
    {
     "name": "stdout",
     "output_type": "stream",
     "text": [
      "Mean localization error = 1.390601\n"
     ]
    },
    {
     "data": {
      "image/png": "[encoded data removed]",
      "text/plain": [
       "<matplotlib.figure.Figure at 0x285d7d3aa58>"
      ]
     },
     "metadata": {},
     "output_type": "display_data"
    }
   ],
   "source": [
    "# Assume the ground truth locations and inferred locatios are stored in Y_testing and Y_hat\n",
    "Y_testing = X_test.T\n",
    "Y_hat = Y_hat.T\n",
    "\n",
    "errors = np.linalg.norm(Y_testing - Y_hat, axis=0)\n",
    "print(\"Mean localization error = %f\"%np.mean(errors))\n",
    "\n",
    "plt.plot(Y_testing[0,:], Y_testing[1,:], 'ro')\n",
    "plt.plot(Y_hat[0,:], Y_hat[1,:], 'b*')\n",
    "plt.xlabel('X coordinate (m)')\n",
    "plt.ylabel('Y coordinate (m)')\n",
    "for i in range(Y_testing.shape[1]):\n",
    "    plt.arrow(Y_testing[0,i], Y_testing[1,i], Y_hat[0,i]-Y_testing[0,i], Y_hat[1,i]-Y_testing[1,i])\n",
    "\n",
    "plt.show()"
   ]
  },
  {
   "cell_type": "markdown",
   "metadata": {},
   "source": [
    "## 3. 10-fold validation and compute the average error"
   ]
  },
  {
   "cell_type": "code",
   "execution_count": 3,
   "metadata": {},
   "outputs": [
    {
     "name": "stderr",
     "output_type": "stream",
     "text": [
      " C:\\Users\\wenqi\\Anaconda3\\lib\\site-packages\\ipykernel_launcher.py:4: RuntimeWarning:Mean of empty slice\n",
      " C:\\Users\\wenqi\\Anaconda3\\lib\\site-packages\\GPy\\kern\\src\\rbf.py:43: RuntimeWarning:overflow encountered in square\n"
     ]
    },
    {
     "name": "stdout",
     "output_type": "stream",
     "text": [
      "Mean localization error = 1.939795\n",
      "Mean localization error = 2.023509\n"
     ]
    },
    {
     "name": "stderr",
     "output_type": "stream",
     "text": [
      " C:\\Users\\wenqi\\Anaconda3\\lib\\site-packages\\GPy\\kern\\src\\stationary.py:167: RuntimeWarning:overflow encountered in true_divide\n",
      " C:\\Users\\wenqi\\Anaconda3\\lib\\site-packages\\GPy\\kern\\src\\rbf.py:46: RuntimeWarning:invalid value encountered in multiply\n"
     ]
    },
    {
     "name": "stdout",
     "output_type": "stream",
     "text": [
      "Mean localization error = 1.491400\n",
      "Mean localization error = 2.075831\n",
      "Mean localization error = 2.511497\n",
      "Mean localization error = 2.050776\n",
      "Mean localization error = 1.870015\n",
      "Mean localization error = 1.984424\n",
      "Mean localization error = 1.910044\n",
      "Mean localization error = 1.430314\n",
      "error by 10-folds validation = 1.928761\n"
     ]
    }
   ],
   "source": [
    "X_mean = np.zeros((num_AP, num_loc))\n",
    "for i in range(num_loc):\n",
    "    num_scans = X_raw[i].shape[1]\n",
    "    X_mean[:,i] = np.nanmean(X_raw[i][:,0:num_scans],axis=1)\n",
    "X_mean = X_mean.T\n",
    "Y_new = Y.T[:,0:2]\n",
    "error_sum = 0\n",
    "X = Y_new\n",
    "y = X_mean\n",
    "\n",
    "kf = KFold(n_splits=10)\n",
    "kf.get_n_splits(X) \n",
    "for train_index, test_index in kf.split(X):\n",
    "    X_train, X_test = X[train_index], X[test_index]\n",
    "    Y_train, Y_test = y[train_index], y[test_index]\n",
    "\n",
    "    GP = []\n",
    "    GP_index = []\n",
    "    for i in range(num_AP):\n",
    "        X_AP = X_train[~np.isnan(Y_train[:,i])]\n",
    "        Y_AP = Y_train[:,i]\n",
    "        Y_AP = Y_AP[~np.isnan(Y_AP)]\n",
    "        Y_AP = np.reshape(Y_AP,(Y_AP.shape[0],1))\n",
    "\n",
    "        if(X_AP.shape[0] > 10):\n",
    "            kernel = GPy.kern.RBF(input_dim=2,lengthscale =10)\n",
    "            m = GPy.models.GPRegression(X_AP,Y_AP,kernel)\n",
    "            m.optimize(messages=False,max_f_eval = 1000)\n",
    "            GP.append(m)\n",
    "            GP_index.append(i)\n",
    "\n",
    "    GP_num = len(GP)\n",
    "    mean = np.zeros([grid.shape[0],GP_num])\n",
    "    var = np.zeros([grid.shape[0],GP_num])\n",
    "    for i in range(GP_num):\n",
    "        result = GP[i].predict(grid)\n",
    "        mean[:,i] = result[0].reshape((grid.shape[0],))\n",
    "        var[:,i] = result[1].reshape((grid.shape[0],))\n",
    "\n",
    "    num_test = X_test.shape[0]\n",
    "    Y_hat = np.zeros([num_test,2])\n",
    "    for num in range(num_test):\n",
    "        sum = np.zeros(grid.shape[0])\n",
    "        for p in range(grid.shape[0]):\n",
    "            for k in range(GP_num):\n",
    "                RSS = Y_test[num,GP_index[k]]\n",
    "                if (~np.isnan(RSS)):\n",
    "                    sum[p] += scipy.stats.multivariate_normal.logpdf(RSS,mean[p,k],math.sqrt(var[p,k]))\n",
    "        max_index = np.argmax(sum)\n",
    "        Y_hat[num] = grid[max_index]\n",
    "        \n",
    "\n",
    "    Y_testing = X_test.T\n",
    "    Y_hat = Y_hat.T\n",
    "    errors = np.linalg.norm(Y_testing - Y_hat, axis=0)\n",
    "    print(\"Mean localization error = %f\"%np.mean(errors))\n",
    "    error_sum += np.mean(errors)\n",
    "cross_validation_error = error_sum/10\n",
    "print(\"error by 10-folds validation = %f\"%cross_validation_error)"
   ]
  },
  {
   "cell_type": "markdown",
   "metadata": {},
   "source": [
    "## Report and Submission\n",
    "1. In hyperparameter optimization, you can include constraints to limit the search space for the hyperparameters. Evaluate the impact of constraints on the value of the objective function reported by GP regression and on localization errors. \n",
    "2. Vary the mesh size, repeat the above experiments. [Note the computation complexity increases linearly with the # of grid points]. \n",
    "3. Partition the data into 10 equal partitions. Perform 10-fold cross validation and compute the average error.\n",
    "4. (*Optional*) In inferring a location from the GP, we estimate the posterior probablity by evaluating the GP models of *all* APs. The contributions of the APs are weighted by the variance of their respective Gaussian distributions. It is expected that for some faraway APs, their variances are very large or in other words, the uncertainty of their predictions are high. To mitigate this, one can apply a threshold to  \"filter\" APs and only consider GP models of APs with variance lower than the threshold at the guessed location. Note that in this case, the log posterior probablity should be normalized by the number of APs considered. Evaluate whether this strategy can improve the localization accuracy with properly tuned threshold. \n",
    "5. Include your ipynb code and your report in a directory under the gitlab project folder you previously shared with the instructor."
   ]
  },
  {
   "cell_type": "code",
   "execution_count": null,
   "metadata": {
    "collapsed": true
   },
   "outputs": [],
   "source": []
  }
 ],
 "metadata": {
  "kernelspec": {
   "display_name": "Python 3",
   "language": "python",
   "name": "python3"
  },
  "language_info": {
   "codemirror_mode": {
    "name": "ipython",
    "version": 3
   },
   "file_extension": ".py",
   "mimetype": "text/x-python",
   "name": "python",
   "nbconvert_exporter": "python",
   "pygments_lexer": "ipython3",
   "version": "3.6.3"
  }
 },
 "nbformat": 4,
 "nbformat_minor": 2
}
